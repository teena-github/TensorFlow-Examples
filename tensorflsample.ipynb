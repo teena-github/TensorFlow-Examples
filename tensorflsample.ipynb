{
  "nbformat": 4,
  "nbformat_minor": 0,
  "metadata": {
    "colab": {
      "name": "tensorflsample.ipynb",
      "version": "0.3.2",
      "provenance": [],
      "include_colab_link": true
    },
    "kernelspec": {
      "name": "python3",
      "display_name": "Python 3"
    },
    "accelerator": "GPU"
  },
  "cells": [
    {
      "cell_type": "markdown",
      "metadata": {
        "id": "view-in-github",
        "colab_type": "text"
      },
      "source": [
        "<a href=\"https://colab.research.google.com/github/teena-github/TensorFlow-Examples/blob/master/tensorflsample.ipynb\" target=\"_parent\"><img src=\"https://colab.research.google.com/assets/colab-badge.svg\" alt=\"Open In Colab\"/></a>"
      ]
    },
    {
      "metadata": {
        "id": "g2b0fACzz8pg",
        "colab_type": "code",
        "colab": {
          "base_uri": "https://localhost:8080/",
          "height": 34
        },
        "outputId": "e3965221-4b45-4266-ccb9-6b117e200cf9"
      },
      "cell_type": "code",
      "source": [
        "import tensorflow as tf\n",
        "\n",
        "g=tf.get_default_graph()\n",
        "g"
      ],
      "execution_count": 1,
      "outputs": [
        {
          "output_type": "execute_result",
          "data": {
            "text/plain": [
              "<tensorflow.python.framework.ops.Graph at 0x7ffaf0ec77b8>"
            ]
          },
          "metadata": {
            "tags": []
          },
          "execution_count": 1
        }
      ]
    },
    {
      "metadata": {
        "id": "XSglCYGt5csT",
        "colab_type": "code",
        "colab": {
          "base_uri": "https://localhost:8080/",
          "height": 34
        },
        "outputId": "5ed03348-f593-4be5-cf7f-b9e3b3b556c0"
      },
      "cell_type": "code",
      "source": [
        "g.get_operations()"
      ],
      "execution_count": 2,
      "outputs": [
        {
          "output_type": "execute_result",
          "data": {
            "text/plain": [
              "[]"
            ]
          },
          "metadata": {
            "tags": []
          },
          "execution_count": 2
        }
      ]
    },
    {
      "metadata": {
        "id": "fsdWEvUa5aLb",
        "colab_type": "code",
        "colab": {
          "base_uri": "https://localhost:8080/",
          "height": 34
        },
        "outputId": "f4b5f523-9e35-49c8-d90c-068756990854"
      },
      "cell_type": "code",
      "source": [
        "tf.constant(3.14)\n",
        "g.get_operations()\n"
      ],
      "execution_count": 3,
      "outputs": [
        {
          "output_type": "execute_result",
          "data": {
            "text/plain": [
              "[<tf.Operation 'Const' type=Const>]"
            ]
          },
          "metadata": {
            "tags": []
          },
          "execution_count": 3
        }
      ]
    },
    {
      "metadata": {
        "id": "hQQuZzVK5RXw",
        "colab_type": "code",
        "colab": {
          "base_uri": "https://localhost:8080/",
          "height": 34
        },
        "outputId": "adbaeab5-bd24-4c1d-b2b2-e2c8d9c9624d"
      },
      "cell_type": "code",
      "source": [
        "const_operation = g.get_operations()[0]\n",
        "len(const_operation.inputs),len(const_operation.outputs)\n",
        "\n",
        "const_tensor=const_operation.outputs[0]\n",
        "const_tensor"
      ],
      "execution_count": 4,
      "outputs": [
        {
          "output_type": "execute_result",
          "data": {
            "text/plain": [
              "<tf.Tensor 'Const:0' shape=() dtype=float32>"
            ]
          },
          "metadata": {
            "tags": []
          },
          "execution_count": 4
        }
      ]
    },
    {
      "metadata": {
        "id": "cg1GbgcM57cz",
        "colab_type": "code",
        "colab": {
          "base_uri": "https://localhost:8080/",
          "height": 34
        },
        "outputId": "406c0891-0404-42e8-ff56-c7a5503ee7e8"
      },
      "cell_type": "code",
      "source": [
        "another_const_tensor=tf.constant(1.414)\n",
        "another_const_tensor\n",
        "\n",
        "g.get_operations()"
      ],
      "execution_count": 5,
      "outputs": [
        {
          "output_type": "execute_result",
          "data": {
            "text/plain": [
              "[<tf.Operation 'Const' type=Const>, <tf.Operation 'Const_1' type=Const>]"
            ]
          },
          "metadata": {
            "tags": []
          },
          "execution_count": 5
        }
      ]
    },
    {
      "metadata": {
        "id": "nFx65mKc4mS-",
        "colab_type": "code",
        "colab": {
          "base_uri": "https://localhost:8080/",
          "height": 68
        },
        "outputId": "803695c3-4e31-4933-eb93-a812bdee9c3f"
      },
      "cell_type": "code",
      "source": [
        "sum_tensor=tf.add(const_tensor,another_const_tensor)\n",
        "sum_tensor\n",
        "\n",
        "g.get_operations()"
      ],
      "execution_count": 6,
      "outputs": [
        {
          "output_type": "execute_result",
          "data": {
            "text/plain": [
              "[<tf.Operation 'Const' type=Const>,\n",
              " <tf.Operation 'Const_1' type=Const>,\n",
              " <tf.Operation 'Add' type=Add>]"
            ]
          },
          "metadata": {
            "tags": []
          },
          "execution_count": 6
        }
      ]
    },
    {
      "metadata": {
        "id": "qhn-7UGE45xT",
        "colab_type": "code",
        "colab": {
          "base_uri": "https://localhost:8080/",
          "height": 34
        },
        "outputId": "f98f8a7a-14df-4cdf-9bef-ba4851feb26b"
      },
      "cell_type": "code",
      "source": [
        "add_op=g.get_operations()[2]\n",
        "len(add_op.inputs),len(add_op.outputs)"
      ],
      "execution_count": 7,
      "outputs": [
        {
          "output_type": "execute_result",
          "data": {
            "text/plain": [
              "(2, 1)"
            ]
          },
          "metadata": {
            "tags": []
          },
          "execution_count": 7
        }
      ]
    },
    {
      "metadata": {
        "id": "OcYPSXCn6uxK",
        "colab_type": "code",
        "colab": {
          "base_uri": "https://localhost:8080/",
          "height": 34
        },
        "outputId": "ac39961f-bd06-4e5c-f37b-c16d7700ab40"
      },
      "cell_type": "code",
      "source": [
        "sess=tf.Session()\n",
        "sess.graph==g"
      ],
      "execution_count": 8,
      "outputs": [
        {
          "output_type": "execute_result",
          "data": {
            "text/plain": [
              "True"
            ]
          },
          "metadata": {
            "tags": []
          },
          "execution_count": 8
        }
      ]
    },
    {
      "metadata": {
        "id": "dE6MT4hz7gG_",
        "colab_type": "code",
        "colab": {
          "base_uri": "https://localhost:8080/",
          "height": 34
        },
        "outputId": "eefdfb46-023e-4de6-94dc-b041d223d7ef"
      },
      "cell_type": "code",
      "source": [
        "sess.run(sum_tensor),sess.run(const_tensor),sess.run(another_const_tensor)"
      ],
      "execution_count": 9,
      "outputs": [
        {
          "output_type": "execute_result",
          "data": {
            "text/plain": [
              "(4.554, 3.14, 1.414)"
            ]
          },
          "metadata": {
            "tags": []
          },
          "execution_count": 9
        }
      ]
    },
    {
      "metadata": {
        "id": "KJdueklB8FWv",
        "colab_type": "code",
        "colab": {
          "base_uri": "https://localhost:8080/",
          "height": 34
        },
        "outputId": "c87b2477-980c-4981-c195-66e855713519"
      },
      "cell_type": "code",
      "source": [
        "sess.run([sum_tensor,const_tensor,another_const_tensor])"
      ],
      "execution_count": 10,
      "outputs": [
        {
          "output_type": "execute_result",
          "data": {
            "text/plain": [
              "[4.554, 3.14, 1.414]"
            ]
          },
          "metadata": {
            "tags": []
          },
          "execution_count": 10
        }
      ]
    },
    {
      "metadata": {
        "id": "KGH_hcYS8w8V",
        "colab_type": "code",
        "colab": {}
      },
      "cell_type": "code",
      "source": [
        "sess.close()"
      ],
      "execution_count": 0,
      "outputs": []
    },
    {
      "metadata": {
        "id": "K_Oeakul-GAR",
        "colab_type": "text"
      },
      "cell_type": "markdown",
      "source": [
        ""
      ]
    },
    {
      "metadata": {
        "id": "_l-IJhMi9YTU",
        "colab_type": "code",
        "colab": {}
      },
      "cell_type": "code",
      "source": [
        "a=tf.placeholder(tf.float32)\n",
        "a"
      ],
      "execution_count": 0,
      "outputs": []
    },
    {
      "metadata": {
        "id": "LH_FVI6Y9tD0",
        "colab_type": "code",
        "colab": {
          "base_uri": "https://localhost:8080/",
          "height": 153
        },
        "outputId": "441f9ad4-ff39-4741-ae7f-f03692310f16"
      },
      "cell_type": "code",
      "source": [
        "b=tf.placeholder(tf.float32)\n",
        "flexible_sum_tensor=tf.add(a,b)\n",
        "g.get_operations()"
      ],
      "execution_count": 14,
      "outputs": [
        {
          "output_type": "execute_result",
          "data": {
            "text/plain": [
              "[<tf.Operation 'Const' type=Const>,\n",
              " <tf.Operation 'Const_1' type=Const>,\n",
              " <tf.Operation 'Add' type=Add>,\n",
              " <tf.Operation 'Placeholder' type=Placeholder>,\n",
              " <tf.Operation 'Placeholder_1' type=Placeholder>,\n",
              " <tf.Operation 'Add_1' type=Add>,\n",
              " <tf.Operation 'Placeholder_2' type=Placeholder>,\n",
              " <tf.Operation 'Add_2' type=Add>]"
            ]
          },
          "metadata": {
            "tags": []
          },
          "execution_count": 14
        }
      ]
    },
    {
      "metadata": {
        "id": "Em18INxy9woS",
        "colab_type": "code",
        "colab": {
          "base_uri": "https://localhost:8080/",
          "height": 34
        },
        "outputId": "3fd610d9-eac6-421a-d4fe-bc425ecc10f6"
      },
      "cell_type": "code",
      "source": [
        "sess=tf.Session()\n",
        "sess.run(flexible_sum_tensor,feed_dict={a:1.,b:2.})"
      ],
      "execution_count": 16,
      "outputs": [
        {
          "output_type": "execute_result",
          "data": {
            "text/plain": [
              "3.0"
            ]
          },
          "metadata": {
            "tags": []
          },
          "execution_count": 16
        }
      ]
    },
    {
      "metadata": {
        "id": "DLWyC7v6_Y7x",
        "colab_type": "code",
        "colab": {
          "base_uri": "https://localhost:8080/",
          "height": 153
        },
        "outputId": "e7f7d6bd-fabe-4117-9d80-b587bbdb2dda"
      },
      "cell_type": "code",
      "source": [
        "\n",
        "g.get_operations()"
      ],
      "execution_count": 17,
      "outputs": [
        {
          "output_type": "execute_result",
          "data": {
            "text/plain": [
              "[<tf.Operation 'Const' type=Const>,\n",
              " <tf.Operation 'Const_1' type=Const>,\n",
              " <tf.Operation 'Add' type=Add>,\n",
              " <tf.Operation 'Placeholder' type=Placeholder>,\n",
              " <tf.Operation 'Placeholder_1' type=Placeholder>,\n",
              " <tf.Operation 'Add_1' type=Add>,\n",
              " <tf.Operation 'Placeholder_2' type=Placeholder>,\n",
              " <tf.Operation 'Add_2' type=Add>]"
            ]
          },
          "metadata": {
            "tags": []
          },
          "execution_count": 17
        }
      ]
    },
    {
      "metadata": {
        "id": "CQlsukTmANqO",
        "colab_type": "code",
        "colab": {
          "base_uri": "https://localhost:8080/",
          "height": 221
        },
        "outputId": "d446bfdd-29a2-461e-af16-a6aa945a2bd0"
      },
      "cell_type": "code",
      "source": [
        "distance_from_origin=tf.sqrt((a*a)+(b*b))\n",
        "g.get_operations()"
      ],
      "execution_count": 18,
      "outputs": [
        {
          "output_type": "execute_result",
          "data": {
            "text/plain": [
              "[<tf.Operation 'Const' type=Const>,\n",
              " <tf.Operation 'Const_1' type=Const>,\n",
              " <tf.Operation 'Add' type=Add>,\n",
              " <tf.Operation 'Placeholder' type=Placeholder>,\n",
              " <tf.Operation 'Placeholder_1' type=Placeholder>,\n",
              " <tf.Operation 'Add_1' type=Add>,\n",
              " <tf.Operation 'Placeholder_2' type=Placeholder>,\n",
              " <tf.Operation 'Add_2' type=Add>,\n",
              " <tf.Operation 'mul' type=Mul>,\n",
              " <tf.Operation 'mul_1' type=Mul>,\n",
              " <tf.Operation 'add_3' type=Add>,\n",
              " <tf.Operation 'Sqrt' type=Sqrt>]"
            ]
          },
          "metadata": {
            "tags": []
          },
          "execution_count": 18
        }
      ]
    },
    {
      "metadata": {
        "id": "6KUjjS3yBXlK",
        "colab_type": "code",
        "colab": {
          "base_uri": "https://localhost:8080/",
          "height": 34
        },
        "outputId": "ed1ca566-edaa-4508-9334-9aaf58261778"
      },
      "cell_type": "code",
      "source": [
        "distance_from_origin"
      ],
      "execution_count": 19,
      "outputs": [
        {
          "output_type": "execute_result",
          "data": {
            "text/plain": [
              "<tf.Tensor 'Sqrt:0' shape=<unknown> dtype=float32>"
            ]
          },
          "metadata": {
            "tags": []
          },
          "execution_count": 19
        }
      ]
    },
    {
      "metadata": {
        "id": "Tmyxb4JUBdfk",
        "colab_type": "code",
        "colab": {
          "base_uri": "https://localhost:8080/",
          "height": 34
        },
        "outputId": "a1088135-2e84-46b2-ad9c-9628a438235f"
      },
      "cell_type": "code",
      "source": [
        "sess=tf.Session()\n",
        "sess.run(distance_from_origin,feed_dict={a:3.,b:4.})"
      ],
      "execution_count": 20,
      "outputs": [
        {
          "output_type": "execute_result",
          "data": {
            "text/plain": [
              "5.0"
            ]
          },
          "metadata": {
            "tags": []
          },
          "execution_count": 20
        }
      ]
    },
    {
      "metadata": {
        "id": "eiSHq4sMByDl",
        "colab_type": "code",
        "colab": {
          "base_uri": "https://localhost:8080/",
          "height": 34
        },
        "outputId": "23d9358c-2ad0-4463-a352-87590db091f4"
      },
      "cell_type": "code",
      "source": [
        "with tf.Session() as sess:\n",
        "  print(sess.run(distance_from_origin,feed_dict={a:9.,b:12.}))"
      ],
      "execution_count": 21,
      "outputs": [
        {
          "output_type": "stream",
          "text": [
            "15.0\n"
          ],
          "name": "stdout"
        }
      ]
    },
    {
      "metadata": {
        "id": "E_NYlQr3CeTp",
        "colab_type": "code",
        "colab": {
          "base_uri": "https://localhost:8080/",
          "height": 221
        },
        "outputId": "f0f40e85-7847-48be-a664-968f48756bad"
      },
      "cell_type": "code",
      "source": [
        "tf.reset_default_graph()\n",
        "g.get_operations()"
      ],
      "execution_count": 22,
      "outputs": [
        {
          "output_type": "execute_result",
          "data": {
            "text/plain": [
              "[<tf.Operation 'Const' type=Const>,\n",
              " <tf.Operation 'Const_1' type=Const>,\n",
              " <tf.Operation 'Add' type=Add>,\n",
              " <tf.Operation 'Placeholder' type=Placeholder>,\n",
              " <tf.Operation 'Placeholder_1' type=Placeholder>,\n",
              " <tf.Operation 'Add_1' type=Add>,\n",
              " <tf.Operation 'Placeholder_2' type=Placeholder>,\n",
              " <tf.Operation 'Add_2' type=Add>,\n",
              " <tf.Operation 'mul' type=Mul>,\n",
              " <tf.Operation 'mul_1' type=Mul>,\n",
              " <tf.Operation 'add_3' type=Add>,\n",
              " <tf.Operation 'Sqrt' type=Sqrt>]"
            ]
          },
          "metadata": {
            "tags": []
          },
          "execution_count": 22
        }
      ]
    },
    {
      "metadata": {
        "id": "EssA__rpDFnR",
        "colab_type": "code",
        "colab": {
          "base_uri": "https://localhost:8080/",
          "height": 34
        },
        "outputId": "245225f3-d9de-490f-af26-36c79dba8203"
      },
      "cell_type": "code",
      "source": [
        "g=tf.get_default_graph()\n",
        "g.get_operations()"
      ],
      "execution_count": 23,
      "outputs": [
        {
          "output_type": "execute_result",
          "data": {
            "text/plain": [
              "[]"
            ]
          },
          "metadata": {
            "tags": []
          },
          "execution_count": 23
        }
      ]
    }
  ]
}